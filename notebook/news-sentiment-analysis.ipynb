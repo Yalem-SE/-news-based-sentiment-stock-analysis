{
 "cells": [
  {
   "cell_type": "code",
   "execution_count": null,
   "id": "24b1859e",
   "metadata": {},
   "outputs": [],
   "source": [
    "import os\n",
    "import sys\n",
    "import pandas as pd\n",
    "import matplotlib.pyplot as plt\n",
    "from textblob import TextBlob"
   ]
  },
  {
   "cell_type": "code",
   "execution_count": null,
   "id": "d791c3f1",
   "metadata": {},
   "outputs": [],
   "source": [
    "# Load the dataset\n",
    "def load_data(filepath):\n",
    "    return pd.read_csv(filepath)\n",
    "\n",
    "# Compute sentiment scores\n",
    "def compute_sentiment(df, text_col=\"headline\"):\n",
    "    df[text_col] = df[text_col].astype(str)\n",
    "    df[\"Polarity\"] = df[text_col].apply(lambda x: TextBlob(x).sentiment.polarity)\n",
    "    df[\"Subjectivity\"] = df[text_col].apply(lambda x: TextBlob(x).sentiment.subjectivity)\n",
    "    return df\n",
    "\n",
    "# Filter news for a specific company\n",
    "def filter_company_news(df, company_name):\n",
    "    return df[df[\"headline\"].str.contains(company_name, case=False, na=False)]\n",
    "\n",
    "# Summarize sentiment\n",
    "def summarize_sentiment(df):\n",
    "    return {\n",
    "        \"average_polarity\": df[\"Polarity\"].mean(),\n",
    "        \"average_subjectivity\": df[\"Subjectivity\"].mean(),\n",
    "        \"most_positive\": df.loc[df[\"Polarity\"].idxmax()][\"headline\"],\n",
    "        \"most_negative\": df.loc[df[\"Polarity\"].idxmin()][\"headline\"],\n",
    "    }"
   ]
  },
  {
   "cell_type": "code",
   "execution_count": null,
   "id": "f5629ee8",
   "metadata": {},
   "outputs": [],
   "source": [
    "csv_file = \"..data/raw_analyst_ratings.csv\"\n",
    "df = load_data(csv_file)"
   ]
  },
  {
   "cell_type": "code",
   "execution_count": null,
   "id": "7f39e590",
   "metadata": {},
   "outputs": [],
   "source": [
    "df = compute_sentiment(df)\n",
    "\n",
    "# Companies to analyze\n",
    "companies = [\"AAPL\", \"GOOG\", \"AMZN\", \"TSLA\", \"MSFT\"]"
   ]
  },
  {
   "cell_type": "code",
   "execution_count": null,
   "id": "5590cd3c",
   "metadata": {},
   "outputs": [],
   "source": [
    "for company in companies:\n",
    "    print(f\"\\nSentiment summary for {company}:\")\n",
    "    filtered_df = filter_company_news(df, company)\n",
    "    summary = summarize_sentiment(filtered_df)\n",
    "    for k, v in summary.items():\n",
    "        print(f\"{k}: {v}\")\n",
    "\n",
    "    # Plot sentiment distribution\n",
    "    plt.figure(figsize=(8, 4))\n",
    "    plt.hist(filtered_df[\"Polarity\"], bins=20, color=\"skyblue\", edgecolor=\"black\")\n",
    "    plt.title(f\"Sentiment Polarity Distribution for {company}\")\n",
    "    plt.xlabel(\"Polarity\")\n",
    "    plt.ylabel(\"Frequency\")\n",
    "    plt.tight_layout()\n",
    "    plt.show()"
   ]
  }
 ],
 "metadata": {
  "kernelspec": {
   "display_name": "venv",
   "language": "python",
   "name": "python3"
  },
  "language_info": {
   "codemirror_mode": {
    "name": "ipython",
    "version": 3
   },
   "file_extension": ".py",
   "mimetype": "text/x-python",
   "name": "python",
   "nbconvert_exporter": "python",
   "pygments_lexer": "ipython3",
   "version": "3.13.3"
  }
 },
 "nbformat": 4,
 "nbformat_minor": 5
}
