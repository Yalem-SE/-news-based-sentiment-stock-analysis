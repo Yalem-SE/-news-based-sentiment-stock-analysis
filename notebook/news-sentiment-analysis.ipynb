{
 "cells": [
  {
   "cell_type": "code",
   "execution_count": 1,
   "id": "24b1859e",
   "metadata": {},
   "outputs": [],
   "source": [
    "import os\n",
    "import sys\n",
    "import pandas as pd\n",
    "import matplotlib.pyplot as plt\n",
    "from textblob import TextBlob"
   ]
  },
  {
   "cell_type": "code",
   "execution_count": null,
   "id": "d791c3f1",
   "metadata": {},
   "outputs": [],
   "source": [
    "# Load the dataset\n",
    "def load_data(filepath):\n",
    "    return pd.read_csv(filepath)\n",
    "\n",
    "# Compute sentiment scores\n",
    "def compute_sentiment(df, text_col=\"headline\"):\n",
    "    df[text_col] = df[text_col].astype(str)\n",
    "    df[\"Polarity\"] = df[text_col].apply(lambda x: TextBlob(x).sentiment.polarity)\n",
    "    df[\"Subjectivity\"] = df[text_col].apply(lambda x: TextBlob(x).sentiment.subjectivity)\n",
    "    return df\n",
    "\n",
    "# Filter news for a specific company\n",
    "def filter_company_news(df, company_name):\n",
    "    return df[df[\"headline\"].str.contains(company_name, case=False, na=False)]\n",
    "\n",
    "# Summarize sentiment\n",
    "def summarize_sentiment(df):\n",
    "    return {\n",
    "        \"average_polarity\": df[\"Polarity\"].mean(),\n",
    "        \"average_subjectivity\": df[\"Subjectivity\"].mean(),\n",
    "        \"most_positive\": df.loc[df[\"Polarity\"].idxmax()][\"headline\"],\n",
    "        \"most_negative\": df.loc[df[\"Polarity\"].idxmin()][\"headline\"],\n",
    "    }"
   ]
  }
 ],
 "metadata": {
  "kernelspec": {
   "display_name": "venv",
   "language": "python",
   "name": "python3"
  },
  "language_info": {
   "codemirror_mode": {
    "name": "ipython",
    "version": 3
   },
   "file_extension": ".py",
   "mimetype": "text/x-python",
   "name": "python",
   "nbconvert_exporter": "python",
   "pygments_lexer": "ipython3",
   "version": "3.13.3"
  }
 },
 "nbformat": 4,
 "nbformat_minor": 5
}
